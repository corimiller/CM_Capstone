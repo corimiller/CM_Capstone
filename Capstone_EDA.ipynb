{
 "cells": [
  {
   "cell_type": "code",
   "execution_count": 96,
   "id": "b7245d20-3961-4985-ab23-d3f2b50341d9",
   "metadata": {},
   "outputs": [],
   "source": [
    "import pandas as pd\n",
    "import matplotlib.pyplot as plt\n",
    "import seaborn as sns \n",
    "import numpy as np"
   ]
  },
  {
   "cell_type": "code",
   "execution_count": 97,
   "id": "aafbaa7b-cf28-4e0d-b40b-9feb1e34eb8a",
   "metadata": {},
   "outputs": [],
   "source": [
    "GradRates = pd.read_csv('GradRates2011_2021.csv')"
   ]
  },
  {
   "cell_type": "code",
   "execution_count": 98,
   "id": "80412106-1a70-42f5-b3b8-0e390b2bbc1d",
   "metadata": {},
   "outputs": [
    {
     "data": {
      "text/html": [
       "<div>\n",
       "<style scoped>\n",
       "    .dataframe tbody tr th:only-of-type {\n",
       "        vertical-align: middle;\n",
       "    }\n",
       "\n",
       "    .dataframe tbody tr th {\n",
       "        vertical-align: top;\n",
       "    }\n",
       "\n",
       "    .dataframe thead th {\n",
       "        text-align: right;\n",
       "    }\n",
       "</style>\n",
       "<table border=\"1\" class=\"dataframe\">\n",
       "  <thead>\n",
       "    <tr style=\"text-align: right;\">\n",
       "      <th></th>\n",
       "      <th>unitid</th>\n",
       "      <th>institution_name</th>\n",
       "      <th>year</th>\n",
       "      <th>FTFT_Cohort_Total</th>\n",
       "      <th>FTFT_Cohort_men</th>\n",
       "      <th>FTFT_Cohort_women</th>\n",
       "      <th>PercentMen</th>\n",
       "      <th>PercentWomen</th>\n",
       "      <th>TotalCompleters</th>\n",
       "      <th>TotalCompMen</th>\n",
       "      <th>TotalCompWomen</th>\n",
       "      <th>GradRate</th>\n",
       "      <th>GradRateMen</th>\n",
       "      <th>GradRateWomen</th>\n",
       "    </tr>\n",
       "  </thead>\n",
       "  <tbody>\n",
       "    <tr>\n",
       "      <th>0</th>\n",
       "      <td>217624</td>\n",
       "      <td>Allen University</td>\n",
       "      <td>2021</td>\n",
       "      <td>172</td>\n",
       "      <td>89</td>\n",
       "      <td>83</td>\n",
       "      <td>0.52</td>\n",
       "      <td>0.48</td>\n",
       "      <td>39</td>\n",
       "      <td>13</td>\n",
       "      <td>26</td>\n",
       "      <td>0.23</td>\n",
       "      <td>0.15</td>\n",
       "      <td>0.31</td>\n",
       "    </tr>\n",
       "    <tr>\n",
       "      <th>1</th>\n",
       "      <td>217624</td>\n",
       "      <td>Allen University</td>\n",
       "      <td>2020</td>\n",
       "      <td>189</td>\n",
       "      <td>74</td>\n",
       "      <td>115</td>\n",
       "      <td>0.39</td>\n",
       "      <td>0.61</td>\n",
       "      <td>36</td>\n",
       "      <td>17</td>\n",
       "      <td>19</td>\n",
       "      <td>0.19</td>\n",
       "      <td>0.23</td>\n",
       "      <td>0.17</td>\n",
       "    </tr>\n",
       "    <tr>\n",
       "      <th>2</th>\n",
       "      <td>217624</td>\n",
       "      <td>Allen University</td>\n",
       "      <td>2019</td>\n",
       "      <td>179</td>\n",
       "      <td>68</td>\n",
       "      <td>111</td>\n",
       "      <td>0.38</td>\n",
       "      <td>0.62</td>\n",
       "      <td>40</td>\n",
       "      <td>10</td>\n",
       "      <td>30</td>\n",
       "      <td>0.22</td>\n",
       "      <td>0.15</td>\n",
       "      <td>0.27</td>\n",
       "    </tr>\n",
       "    <tr>\n",
       "      <th>3</th>\n",
       "      <td>217624</td>\n",
       "      <td>Allen University</td>\n",
       "      <td>2018</td>\n",
       "      <td>121</td>\n",
       "      <td>43</td>\n",
       "      <td>78</td>\n",
       "      <td>0.36</td>\n",
       "      <td>0.64</td>\n",
       "      <td>38</td>\n",
       "      <td>8</td>\n",
       "      <td>30</td>\n",
       "      <td>0.31</td>\n",
       "      <td>0.19</td>\n",
       "      <td>0.38</td>\n",
       "    </tr>\n",
       "    <tr>\n",
       "      <th>4</th>\n",
       "      <td>217624</td>\n",
       "      <td>Allen University</td>\n",
       "      <td>2017</td>\n",
       "      <td>179</td>\n",
       "      <td>67</td>\n",
       "      <td>112</td>\n",
       "      <td>0.37</td>\n",
       "      <td>0.63</td>\n",
       "      <td>43</td>\n",
       "      <td>10</td>\n",
       "      <td>33</td>\n",
       "      <td>0.24</td>\n",
       "      <td>0.15</td>\n",
       "      <td>0.29</td>\n",
       "    </tr>\n",
       "  </tbody>\n",
       "</table>\n",
       "</div>"
      ],
      "text/plain": [
       "   unitid  institution_name  year  FTFT_Cohort_Total  FTFT_Cohort_men  \\\n",
       "0  217624  Allen University  2021                172               89   \n",
       "1  217624  Allen University  2020                189               74   \n",
       "2  217624  Allen University  2019                179               68   \n",
       "3  217624  Allen University  2018                121               43   \n",
       "4  217624  Allen University  2017                179               67   \n",
       "\n",
       "   FTFT_Cohort_women  PercentMen   PercentWomen  TotalCompleters  \\\n",
       "0                 83         0.52          0.48               39   \n",
       "1                115         0.39          0.61               36   \n",
       "2                111         0.38          0.62               40   \n",
       "3                 78         0.36          0.64               38   \n",
       "4                112         0.37          0.63               43   \n",
       "\n",
       "   TotalCompMen  TotalCompWomen  GradRate  GradRateMen  GradRateWomen  \n",
       "0            13              26      0.23         0.15           0.31  \n",
       "1            17              19      0.19         0.23           0.17  \n",
       "2            10              30      0.22         0.15           0.27  \n",
       "3             8              30      0.31         0.19           0.38  \n",
       "4            10              33      0.24         0.15           0.29  "
      ]
     },
     "execution_count": 98,
     "metadata": {},
     "output_type": "execute_result"
    }
   ],
   "source": [
    "GradRates.head()"
   ]
  },
  {
   "cell_type": "code",
   "execution_count": 99,
   "id": "1f8e3ee0-c5d9-4130-a475-8bbd377add3e",
   "metadata": {},
   "outputs": [
    {
     "data": {
      "text/html": [
       "<div>\n",
       "<style scoped>\n",
       "    .dataframe tbody tr th:only-of-type {\n",
       "        vertical-align: middle;\n",
       "    }\n",
       "\n",
       "    .dataframe tbody tr th {\n",
       "        vertical-align: top;\n",
       "    }\n",
       "\n",
       "    .dataframe thead th {\n",
       "        text-align: right;\n",
       "    }\n",
       "</style>\n",
       "<table border=\"1\" class=\"dataframe\">\n",
       "  <thead>\n",
       "    <tr style=\"text-align: right;\">\n",
       "      <th></th>\n",
       "      <th>unitid</th>\n",
       "      <th>institution_name</th>\n",
       "      <th>year</th>\n",
       "      <th>FTFT_Cohort_Total</th>\n",
       "      <th>FTFT_Cohort_men</th>\n",
       "      <th>FTFT_Cohort_women</th>\n",
       "      <th>PercentMen</th>\n",
       "      <th>PercentWomen</th>\n",
       "      <th>TotalCompleters</th>\n",
       "      <th>TotalCompMen</th>\n",
       "      <th>TotalCompWomen</th>\n",
       "      <th>GradRate</th>\n",
       "      <th>GradRateMen</th>\n",
       "      <th>GradRateWomen</th>\n",
       "    </tr>\n",
       "  </thead>\n",
       "  <tbody>\n",
       "    <tr>\n",
       "      <th>292</th>\n",
       "      <td>141361</td>\n",
       "      <td>Young Harris College</td>\n",
       "      <td>2015</td>\n",
       "      <td>337</td>\n",
       "      <td>159</td>\n",
       "      <td>178</td>\n",
       "      <td>0.47</td>\n",
       "      <td>0.53</td>\n",
       "      <td>172</td>\n",
       "      <td>83</td>\n",
       "      <td>89</td>\n",
       "      <td>0.51</td>\n",
       "      <td>0.52</td>\n",
       "      <td>0.50</td>\n",
       "    </tr>\n",
       "    <tr>\n",
       "      <th>293</th>\n",
       "      <td>141361</td>\n",
       "      <td>Young Harris College</td>\n",
       "      <td>2014</td>\n",
       "      <td>381</td>\n",
       "      <td>179</td>\n",
       "      <td>202</td>\n",
       "      <td>0.47</td>\n",
       "      <td>0.53</td>\n",
       "      <td>176</td>\n",
       "      <td>67</td>\n",
       "      <td>109</td>\n",
       "      <td>0.46</td>\n",
       "      <td>0.37</td>\n",
       "      <td>0.54</td>\n",
       "    </tr>\n",
       "    <tr>\n",
       "      <th>294</th>\n",
       "      <td>141361</td>\n",
       "      <td>Young Harris College</td>\n",
       "      <td>2013</td>\n",
       "      <td>345</td>\n",
       "      <td>148</td>\n",
       "      <td>197</td>\n",
       "      <td>0.43</td>\n",
       "      <td>0.57</td>\n",
       "      <td>101</td>\n",
       "      <td>29</td>\n",
       "      <td>72</td>\n",
       "      <td>0.29</td>\n",
       "      <td>0.20</td>\n",
       "      <td>0.37</td>\n",
       "    </tr>\n",
       "    <tr>\n",
       "      <th>295</th>\n",
       "      <td>141361</td>\n",
       "      <td>Young Harris College</td>\n",
       "      <td>2012</td>\n",
       "      <td>366</td>\n",
       "      <td>191</td>\n",
       "      <td>175</td>\n",
       "      <td>0.52</td>\n",
       "      <td>0.48</td>\n",
       "      <td>129</td>\n",
       "      <td>60</td>\n",
       "      <td>69</td>\n",
       "      <td>0.35</td>\n",
       "      <td>0.31</td>\n",
       "      <td>0.39</td>\n",
       "    </tr>\n",
       "    <tr>\n",
       "      <th>296</th>\n",
       "      <td>141361</td>\n",
       "      <td>Young Harris College</td>\n",
       "      <td>2011</td>\n",
       "      <td>294</td>\n",
       "      <td>128</td>\n",
       "      <td>166</td>\n",
       "      <td>0.44</td>\n",
       "      <td>0.56</td>\n",
       "      <td>103</td>\n",
       "      <td>42</td>\n",
       "      <td>61</td>\n",
       "      <td>0.35</td>\n",
       "      <td>0.33</td>\n",
       "      <td>0.37</td>\n",
       "    </tr>\n",
       "  </tbody>\n",
       "</table>\n",
       "</div>"
      ],
      "text/plain": [
       "     unitid      institution_name  year  FTFT_Cohort_Total  FTFT_Cohort_men  \\\n",
       "292  141361  Young Harris College  2015                337              159   \n",
       "293  141361  Young Harris College  2014                381              179   \n",
       "294  141361  Young Harris College  2013                345              148   \n",
       "295  141361  Young Harris College  2012                366              191   \n",
       "296  141361  Young Harris College  2011                294              128   \n",
       "\n",
       "     FTFT_Cohort_women  PercentMen   PercentWomen  TotalCompleters  \\\n",
       "292                178         0.47          0.53              172   \n",
       "293                202         0.47          0.53              176   \n",
       "294                197         0.43          0.57              101   \n",
       "295                175         0.52          0.48              129   \n",
       "296                166         0.44          0.56              103   \n",
       "\n",
       "     TotalCompMen  TotalCompWomen  GradRate  GradRateMen  GradRateWomen  \n",
       "292            83              89      0.51         0.52           0.50  \n",
       "293            67             109      0.46         0.37           0.54  \n",
       "294            29              72      0.29         0.20           0.37  \n",
       "295            60              69      0.35         0.31           0.39  \n",
       "296            42              61      0.35         0.33           0.37  "
      ]
     },
     "execution_count": 99,
     "metadata": {},
     "output_type": "execute_result"
    }
   ],
   "source": [
    "GradRates.tail()"
   ]
  },
  {
   "cell_type": "code",
   "execution_count": 100,
   "id": "13ab1641-f9a3-4e9d-8a6c-560365abd5d1",
   "metadata": {},
   "outputs": [
    {
     "data": {
      "text/html": [
       "<div>\n",
       "<style scoped>\n",
       "    .dataframe tbody tr th:only-of-type {\n",
       "        vertical-align: middle;\n",
       "    }\n",
       "\n",
       "    .dataframe tbody tr th {\n",
       "        vertical-align: top;\n",
       "    }\n",
       "\n",
       "    .dataframe thead th {\n",
       "        text-align: right;\n",
       "    }\n",
       "</style>\n",
       "<table border=\"1\" class=\"dataframe\">\n",
       "  <thead>\n",
       "    <tr style=\"text-align: right;\">\n",
       "      <th></th>\n",
       "      <th>unitid</th>\n",
       "      <th>year</th>\n",
       "      <th>FTFT_Cohort_Total</th>\n",
       "      <th>FTFT_Cohort_men</th>\n",
       "      <th>FTFT_Cohort_women</th>\n",
       "      <th>PercentMen</th>\n",
       "      <th>PercentWomen</th>\n",
       "      <th>TotalCompleters</th>\n",
       "      <th>TotalCompMen</th>\n",
       "      <th>TotalCompWomen</th>\n",
       "      <th>GradRate</th>\n",
       "      <th>GradRateMen</th>\n",
       "      <th>GradRateWomen</th>\n",
       "    </tr>\n",
       "  </thead>\n",
       "  <tbody>\n",
       "    <tr>\n",
       "      <th>count</th>\n",
       "      <td>297.000000</td>\n",
       "      <td>297.000000</td>\n",
       "      <td>297.00000</td>\n",
       "      <td>297.000000</td>\n",
       "      <td>297.000000</td>\n",
       "      <td>297.000000</td>\n",
       "      <td>297.000000</td>\n",
       "      <td>297.000000</td>\n",
       "      <td>297.000000</td>\n",
       "      <td>297.000000</td>\n",
       "      <td>297.000000</td>\n",
       "      <td>297.000000</td>\n",
       "      <td>297.000000</td>\n",
       "    </tr>\n",
       "    <tr>\n",
       "      <th>mean</th>\n",
       "      <td>175774.740741</td>\n",
       "      <td>2016.000000</td>\n",
       "      <td>251.69697</td>\n",
       "      <td>111.659933</td>\n",
       "      <td>140.037037</td>\n",
       "      <td>0.438081</td>\n",
       "      <td>0.562020</td>\n",
       "      <td>148.663300</td>\n",
       "      <td>61.494949</td>\n",
       "      <td>87.168350</td>\n",
       "      <td>0.582121</td>\n",
       "      <td>0.538182</td>\n",
       "      <td>0.617374</td>\n",
       "    </tr>\n",
       "    <tr>\n",
       "      <th>std</th>\n",
       "      <td>39790.052045</td>\n",
       "      <td>3.167615</td>\n",
       "      <td>72.22288</td>\n",
       "      <td>40.459633</td>\n",
       "      <td>40.722636</td>\n",
       "      <td>0.082777</td>\n",
       "      <td>0.082834</td>\n",
       "      <td>62.717684</td>\n",
       "      <td>30.951261</td>\n",
       "      <td>35.747878</td>\n",
       "      <td>0.166905</td>\n",
       "      <td>0.183148</td>\n",
       "      <td>0.165100</td>\n",
       "    </tr>\n",
       "    <tr>\n",
       "      <th>min</th>\n",
       "      <td>106342.000000</td>\n",
       "      <td>2011.000000</td>\n",
       "      <td>67.00000</td>\n",
       "      <td>27.000000</td>\n",
       "      <td>40.000000</td>\n",
       "      <td>0.230000</td>\n",
       "      <td>0.200000</td>\n",
       "      <td>19.000000</td>\n",
       "      <td>8.000000</td>\n",
       "      <td>6.000000</td>\n",
       "      <td>0.090000</td>\n",
       "      <td>0.080000</td>\n",
       "      <td>0.150000</td>\n",
       "    </tr>\n",
       "    <tr>\n",
       "      <th>25%</th>\n",
       "      <td>147341.000000</td>\n",
       "      <td>2013.000000</td>\n",
       "      <td>198.00000</td>\n",
       "      <td>75.000000</td>\n",
       "      <td>110.000000</td>\n",
       "      <td>0.380000</td>\n",
       "      <td>0.510000</td>\n",
       "      <td>90.000000</td>\n",
       "      <td>32.000000</td>\n",
       "      <td>58.000000</td>\n",
       "      <td>0.490000</td>\n",
       "      <td>0.420000</td>\n",
       "      <td>0.510000</td>\n",
       "    </tr>\n",
       "    <tr>\n",
       "      <th>50%</th>\n",
       "      <td>175980.000000</td>\n",
       "      <td>2016.000000</td>\n",
       "      <td>252.00000</td>\n",
       "      <td>114.000000</td>\n",
       "      <td>142.000000</td>\n",
       "      <td>0.440000</td>\n",
       "      <td>0.560000</td>\n",
       "      <td>154.000000</td>\n",
       "      <td>66.000000</td>\n",
       "      <td>87.000000</td>\n",
       "      <td>0.600000</td>\n",
       "      <td>0.550000</td>\n",
       "      <td>0.650000</td>\n",
       "    </tr>\n",
       "    <tr>\n",
       "      <th>75%</th>\n",
       "      <td>217624.000000</td>\n",
       "      <td>2019.000000</td>\n",
       "      <td>304.00000</td>\n",
       "      <td>140.000000</td>\n",
       "      <td>166.000000</td>\n",
       "      <td>0.490000</td>\n",
       "      <td>0.620000</td>\n",
       "      <td>195.000000</td>\n",
       "      <td>86.000000</td>\n",
       "      <td>114.000000</td>\n",
       "      <td>0.690000</td>\n",
       "      <td>0.660000</td>\n",
       "      <td>0.730000</td>\n",
       "    </tr>\n",
       "    <tr>\n",
       "      <th>max</th>\n",
       "      <td>239628.000000</td>\n",
       "      <td>2021.000000</td>\n",
       "      <td>448.00000</td>\n",
       "      <td>204.000000</td>\n",
       "      <td>265.000000</td>\n",
       "      <td>0.800000</td>\n",
       "      <td>0.770000</td>\n",
       "      <td>288.000000</td>\n",
       "      <td>135.000000</td>\n",
       "      <td>177.000000</td>\n",
       "      <td>0.960000</td>\n",
       "      <td>0.960000</td>\n",
       "      <td>0.980000</td>\n",
       "    </tr>\n",
       "  </tbody>\n",
       "</table>\n",
       "</div>"
      ],
      "text/plain": [
       "              unitid         year  FTFT_Cohort_Total  FTFT_Cohort_men  \\\n",
       "count     297.000000   297.000000          297.00000       297.000000   \n",
       "mean   175774.740741  2016.000000          251.69697       111.659933   \n",
       "std     39790.052045     3.167615           72.22288        40.459633   \n",
       "min    106342.000000  2011.000000           67.00000        27.000000   \n",
       "25%    147341.000000  2013.000000          198.00000        75.000000   \n",
       "50%    175980.000000  2016.000000          252.00000       114.000000   \n",
       "75%    217624.000000  2019.000000          304.00000       140.000000   \n",
       "max    239628.000000  2021.000000          448.00000       204.000000   \n",
       "\n",
       "       FTFT_Cohort_women  PercentMen   PercentWomen  TotalCompleters  \\\n",
       "count         297.000000   297.000000    297.000000       297.000000   \n",
       "mean          140.037037     0.438081      0.562020       148.663300   \n",
       "std            40.722636     0.082777      0.082834        62.717684   \n",
       "min            40.000000     0.230000      0.200000        19.000000   \n",
       "25%           110.000000     0.380000      0.510000        90.000000   \n",
       "50%           142.000000     0.440000      0.560000       154.000000   \n",
       "75%           166.000000     0.490000      0.620000       195.000000   \n",
       "max           265.000000     0.800000      0.770000       288.000000   \n",
       "\n",
       "       TotalCompMen  TotalCompWomen    GradRate  GradRateMen  GradRateWomen  \n",
       "count    297.000000      297.000000  297.000000   297.000000     297.000000  \n",
       "mean      61.494949       87.168350    0.582121     0.538182       0.617374  \n",
       "std       30.951261       35.747878    0.166905     0.183148       0.165100  \n",
       "min        8.000000        6.000000    0.090000     0.080000       0.150000  \n",
       "25%       32.000000       58.000000    0.490000     0.420000       0.510000  \n",
       "50%       66.000000       87.000000    0.600000     0.550000       0.650000  \n",
       "75%       86.000000      114.000000    0.690000     0.660000       0.730000  \n",
       "max      135.000000      177.000000    0.960000     0.960000       0.980000  "
      ]
     },
     "execution_count": 100,
     "metadata": {},
     "output_type": "execute_result"
    }
   ],
   "source": [
    "GradRates.describe()"
   ]
  },
  {
   "cell_type": "code",
   "execution_count": 101,
   "id": "0c9189dd-52bd-435a-9125-095781cb4304",
   "metadata": {},
   "outputs": [
    {
     "data": {
      "text/plain": [
       "Index(['unitid', 'institution_name', 'year', 'FTFT_Cohort_Total',\n",
       "       'FTFT_Cohort_men', 'FTFT_Cohort_women', 'PercentMen ', 'PercentWomen',\n",
       "       'TotalCompleters', 'TotalCompMen', 'TotalCompWomen', 'GradRate',\n",
       "       'GradRateMen', 'GradRateWomen'],\n",
       "      dtype='object')"
      ]
     },
     "execution_count": 101,
     "metadata": {},
     "output_type": "execute_result"
    }
   ],
   "source": [
    "GradRates.columns"
   ]
  },
  {
   "cell_type": "code",
   "execution_count": 102,
   "id": "64272b96-b633-4d53-ac82-c614fcba7076",
   "metadata": {},
   "outputs": [],
   "source": [
    "%matplotlib inline"
   ]
  },
  {
   "cell_type": "code",
   "execution_count": 103,
   "id": "f51c4dba-cc9f-45c4-8b8b-4e215cdaaae5",
   "metadata": {},
   "outputs": [
    {
     "data": {
      "image/png": "[encoded data removed]",
      "text/plain": [
       "<Figure size 640x480 with 1 Axes>"
      ]
     },
     "metadata": {},
     "output_type": "display_data"
    }
   ],
   "source": [
    "histogram = GradRates.TotalCompleters.hist()"
   ]
  },
  {
   "cell_type": "code",
   "execution_count": 104,
   "id": "8e63f186-cb93-4ea5-9795-6637aef70b40",
   "metadata": {},
   "outputs": [
    {
     "data": {
      "image/png": "[encoded data removed]",
      "text/plain": [
       "<Figure size 640x480 with 1 Axes>"
      ]
     },
     "metadata": {},
     "output_type": "display_data"
    }
   ],
   "source": [
    "histogram = GradRates.TotalCompMen.hist()"
   ]
  },
  {
   "cell_type": "code",
   "execution_count": 105,
   "id": "893b53da-ce65-4bb3-8843-7632ff1bf888",
   "metadata": {},
   "outputs": [
    {
     "data": {
      "image/png": "[encoded data removed]",
      "text/plain": [
       "<Figure size 640x480 with 1 Axes>"
      ]
     },
     "metadata": {},
     "output_type": "display_data"
    }
   ],
   "source": [
    "histogram = GradRates.TotalCompWomen.hist()"
   ]
  },
  {
   "cell_type": "code",
   "execution_count": 106,
   "id": "830e1490-0144-4d1f-be7f-de8823890289",
   "metadata": {},
   "outputs": [
    {
     "data": {
      "image/png": "[encoded data removed]",
      "text/plain": [
       "<Figure size 640x480 with 1 Axes>"
      ]
     },
     "metadata": {},
     "output_type": "display_data"
    }
   ],
   "source": [
    "histogram = GradRates.TotalCompMen.hist()"
   ]
  },
  {
   "cell_type": "code",
   "execution_count": 107,
   "id": "4533a5c1-6ad5-476b-b847-5dd06e9007d9",
   "metadata": {},
   "outputs": [
    {
     "data": {
      "image/png": "[encoded data removed]",
      "text/plain": [
       "<Figure size 640x480 with 1 Axes>"
      ]
     },
     "metadata": {},
     "output_type": "display_data"
    }
   ],
   "source": [
    "histogram = GradRates.TotalCompWomen.hist()"
   ]
  },
  {
   "cell_type": "code",
   "execution_count": 108,
   "id": "bd8bab23-234e-4936-b6d2-16a22fb57aa1",
   "metadata": {},
   "outputs": [
    {
     "data": {
      "image/png": "[encoded data removed]",
      "text/plain": [
       "<Figure size 640x480 with 1 Axes>"
      ]
     },
     "metadata": {},
     "output_type": "display_data"
    }
   ],
   "source": [
    "histogram = GradRates.GradRate.hist()"
   ]
  },
  {
   "cell_type": "code",
   "execution_count": 109,
   "id": "8f2aca60-0594-4327-97d6-c7a167b80129",
   "metadata": {},
   "outputs": [
    {
     "data": {
      "text/html": [
       "<div>\n",
       "<style scoped>\n",
       "    .dataframe tbody tr th:only-of-type {\n",
       "        vertical-align: middle;\n",
       "    }\n",
       "\n",
       "    .dataframe tbody tr th {\n",
       "        vertical-align: top;\n",
       "    }\n",
       "\n",
       "    .dataframe thead th {\n",
       "        text-align: right;\n",
       "    }\n",
       "</style>\n",
       "<table border=\"1\" class=\"dataframe\">\n",
       "  <thead>\n",
       "    <tr style=\"text-align: right;\">\n",
       "      <th></th>\n",
       "      <th>PercentMen</th>\n",
       "      <th>PercentWomen</th>\n",
       "      <th>GradRate</th>\n",
       "      <th>GradRateMen</th>\n",
       "      <th>GradRateWomen</th>\n",
       "    </tr>\n",
       "  </thead>\n",
       "  <tbody>\n",
       "    <tr>\n",
       "      <th>PercentMen</th>\n",
       "      <td>1.000000</td>\n",
       "      <td>-0.999927</td>\n",
       "      <td>0.199733</td>\n",
       "      <td>0.180961</td>\n",
       "      <td>0.259835</td>\n",
       "    </tr>\n",
       "    <tr>\n",
       "      <th>PercentWomen</th>\n",
       "      <td>-0.999927</td>\n",
       "      <td>1.000000</td>\n",
       "      <td>-0.200051</td>\n",
       "      <td>-0.181471</td>\n",
       "      <td>-0.260082</td>\n",
       "    </tr>\n",
       "    <tr>\n",
       "      <th>GradRate</th>\n",
       "      <td>0.199733</td>\n",
       "      <td>-0.200051</td>\n",
       "      <td>1.000000</td>\n",
       "      <td>0.966292</td>\n",
       "      <td>0.974815</td>\n",
       "    </tr>\n",
       "    <tr>\n",
       "      <th>GradRateMen</th>\n",
       "      <td>0.180961</td>\n",
       "      <td>-0.181471</td>\n",
       "      <td>0.966292</td>\n",
       "      <td>1.000000</td>\n",
       "      <td>0.891547</td>\n",
       "    </tr>\n",
       "    <tr>\n",
       "      <th>GradRateWomen</th>\n",
       "      <td>0.259835</td>\n",
       "      <td>-0.260082</td>\n",
       "      <td>0.974815</td>\n",
       "      <td>0.891547</td>\n",
       "      <td>1.000000</td>\n",
       "    </tr>\n",
       "  </tbody>\n",
       "</table>\n",
       "</div>"
      ],
      "text/plain": [
       "               PercentMen   PercentWomen  GradRate  GradRateMen  GradRateWomen\n",
       "PercentMen        1.000000     -0.999927  0.199733     0.180961       0.259835\n",
       "PercentWomen     -0.999927      1.000000 -0.200051    -0.181471      -0.260082\n",
       "GradRate          0.199733     -0.200051  1.000000     0.966292       0.974815\n",
       "GradRateMen       0.180961     -0.181471  0.966292     1.000000       0.891547\n",
       "GradRateWomen     0.259835     -0.260082  0.974815     0.891547       1.000000"
      ]
     },
     "execution_count": 109,
     "metadata": {},
     "output_type": "execute_result"
    }
   ],
   "source": [
    "GradRates[['PercentMen ', 'PercentWomen', 'GradRate','GradRateMen', 'GradRateWomen']].corr()"
   ]
  },
  {
   "cell_type": "code",
   "execution_count": 110,
   "id": "6ffcd568-b702-4a68-89d0-7b5b1b6079c8",
   "metadata": {},
   "outputs": [
    {
     "data": {
      "text/plain": [
       "<AxesSubplot: >"
      ]
     },
     "execution_count": 110,
     "metadata": {},
     "output_type": "execute_result"
    },
    {
     "data": {
      "image/png": "[encoded data removed]",
      "text/plain": [
       "<Figure size 640x480 with 2 Axes>"
      ]
     },
     "metadata": {},
     "output_type": "display_data"
    }
   ],
   "source": [
    "cmap = sns.diverging_palette(220, 10, as_cmap=True)\n",
    "sns.heatmap(GradRates[['PercentMen ', 'PercentWomen', 'GradRate','GradRateMen', 'GradRateWomen']].corr(),vmax=.3, center=0, cmap=cmap,\n",
    "            square=True, linewidths=.5, cbar_kws={\"shrink\": .5})"
   ]
  },
  {
   "cell_type": "code",
   "execution_count": null,
   "id": "51254046-4e6d-40c4-8feb-651ffceb08b6",
   "metadata": {},
   "outputs": [],
   "source": [
    "## Cori Miller"
   ]
  }
 ],
 "metadata": {
  "kernelspec": {
   "display_name": "Python 3 (ipykernel)",
   "language": "python",
   "name": "python3"
  },
  "language_info": {
   "codemirror_mode": {
    "name": "ipython",
    "version": 3
   },
   "file_extension": ".py",
   "mimetype": "text/x-python",
   "name": "python",
   "nbconvert_exporter": "python",
   "pygments_lexer": "ipython3",
   "version": "3.9.15"
  }
 },
 "nbformat": 4,
 "nbformat_minor": 5
}
